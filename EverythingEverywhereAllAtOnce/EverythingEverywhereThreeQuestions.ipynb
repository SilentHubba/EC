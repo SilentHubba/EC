{
 "cells": [
  {
   "cell_type": "code",
   "execution_count": 110,
   "metadata": {},
   "outputs": [],
   "source": [
    "from queue import Queue\n",
    "\n",
    "class GraphNode(object):\n",
    "    def __init__(self, value=0):\n",
    "        self.value = value\n",
    "        self.adjList = []\n",
    "        \n",
    "def AddEdge(gn1, gn2):\n",
    "    if not gn2 in gn1.adjList:\n",
    "        gn1.adjList.append(gn2)\n",
    "        gn2.adjList.append(gn1)"
   ]
  },
  {
   "cell_type": "code",
   "execution_count": 111,
   "metadata": {},
   "outputs": [],
   "source": [
    "def ConvertToMatrix(startNode):\n",
    "    valueToRow = {}\n",
    "    neighborQueue = Queue()\n",
    "    neighborQueue.put(startNode)\n",
    "    visited = []\n",
    "    visited.append(startNode)\n",
    "    numNodes = 0\n",
    "    while not neighborQueue.empty():\n",
    "        currentNode = neighborQueue.get()\n",
    "        valueToRow.update({currentNode.value : [numNodes, currentNode.adjList]})\n",
    "        numNodes += 1\n",
    "        for node in currentNode.adjList:\n",
    "            if not node in visited:\n",
    "                neighborQueue.put(node)\n",
    "                visited.append(node)\n",
    "                \n",
    "    matrix = [[0]*len(valueToRow) for x in range(len(valueToRow))]\n",
    "\n",
    "    for nodeKey in valueToRow:\n",
    "        row = valueToRow[nodeKey][0]\n",
    "        currAdjList = valueToRow[nodeKey][1]\n",
    "        for node in currAdjList:\n",
    "            column = valueToRow[node.value][0]\n",
    "            matrix[row][column] = 1\n",
    "            print(matrix)\n",
    "        \n",
    "        \n",
    "        \n",
    "    return matrix    \n",
    "                "
   ]
  },
  {
   "cell_type": "code",
   "execution_count": 141,
   "metadata": {},
   "outputs": [],
   "source": [
    "def ConvertToAdjList(matrix):\n",
    "    nodeList = []\n",
    "    \n",
    "    for i in range(len(matrix)):\n",
    "        nodeList.append(GraphNode(value=i))\n",
    "    \n",
    "    for i in range(len(matrix)):\n",
    "        row = matrix[i]\n",
    "        currNode = nodeList[i]\n",
    "        for j in range(len(row)):\n",
    "            if row[j] == 1:\n",
    "                currNode.adjList.append(nodeList[j])\n",
    "                \n",
    "    return nodeList[0]"
   ]
  },
  {
   "cell_type": "code",
   "execution_count": 151,
   "metadata": {},
   "outputs": [],
   "source": [
    "def FlipEdges(matrix):\n",
    "    newMatrix = [[0]*len(matrix[0]) for x in range(len(matrix))]\n",
    "    for i in range(len(matrix)):\n",
    "        for j in range(len(matrix[0])):\n",
    "            newMatrix[j][i] = matrix[i][j]\n",
    "            \n",
    "    return newMatrix"
   ]
  },
  {
   "cell_type": "code",
   "execution_count": 134,
   "metadata": {},
   "outputs": [],
   "source": [
    "nodeOne = GraphNode(value=1)\n",
    "nodeTwo = GraphNode(value=2)\n",
    "nodeThree = GraphNode(value=3)"
   ]
  },
  {
   "cell_type": "code",
   "execution_count": 135,
   "metadata": {},
   "outputs": [
    {
     "name": "stdout",
     "output_type": "stream",
     "text": [
      "2\n",
      "2\n",
      "1\n"
     ]
    }
   ],
   "source": [
    "AddEdge(nodeOne, nodeTwo)\n",
    "AddEdge(nodeOne, nodeThree)\n",
    "print(len(nodeOne.adjList))\n",
    "print(nodeOne.adjList[0].value)\n",
    "print(nodeTwo.adjList[0].value)"
   ]
  },
  {
   "cell_type": "code",
   "execution_count": 136,
   "metadata": {},
   "outputs": [
    {
     "name": "stdout",
     "output_type": "stream",
     "text": [
      "[[0, 1, 0], [0, 0, 0], [0, 0, 0]]\n",
      "[[0, 1, 1], [0, 0, 0], [0, 0, 0]]\n",
      "[[0, 1, 1], [1, 0, 0], [0, 0, 0]]\n",
      "[[0, 1, 1], [1, 0, 0], [1, 0, 0]]\n"
     ]
    }
   ],
   "source": [
    "test = ConvertToMatrix(nodeOne)"
   ]
  },
  {
   "cell_type": "code",
   "execution_count": 142,
   "metadata": {},
   "outputs": [],
   "source": [
    "node1 = ConvertToAdjList(test)"
   ]
  },
  {
   "cell_type": "code",
   "execution_count": 143,
   "metadata": {},
   "outputs": [
    {
     "name": "stdout",
     "output_type": "stream",
     "text": [
      "2\n"
     ]
    }
   ],
   "source": [
    "print(node1.adjList[1].value)"
   ]
  },
  {
   "cell_type": "code",
   "execution_count": 150,
   "metadata": {},
   "outputs": [
    {
     "name": "stdout",
     "output_type": "stream",
     "text": [
      "0\n"
     ]
    }
   ],
   "source": [
    "for node in node1.adjList[0].adjList:\n",
    "    print(node.value)"
   ]
  },
  {
   "cell_type": "code",
   "execution_count": 155,
   "metadata": {},
   "outputs": [],
   "source": [
    "nodeOne = GraphNode(value=1)\n",
    "nodeTwo = GraphNode(value=2)\n",
    "nodeThree = GraphNode(value=3)\n",
    "nodeFour = GraphNode(value=4)"
   ]
  },
  {
   "cell_type": "code",
   "execution_count": 156,
   "metadata": {},
   "outputs": [
    {
     "name": "stdout",
     "output_type": "stream",
     "text": [
      "[[0, 1, 0, 0], [0, 0, 0, 0], [0, 0, 0, 0], [0, 0, 0, 0]]\n",
      "[[0, 1, 1, 0], [0, 0, 0, 0], [0, 0, 0, 0], [0, 0, 0, 0]]\n",
      "[[0, 1, 1, 0], [1, 0, 0, 0], [0, 0, 0, 0], [0, 0, 0, 0]]\n",
      "[[0, 1, 1, 0], [1, 0, 0, 0], [1, 0, 0, 0], [0, 0, 0, 0]]\n",
      "[[0, 1, 1, 0], [1, 0, 0, 0], [1, 0, 0, 1], [0, 0, 0, 0]]\n",
      "[[0, 1, 1, 0], [1, 0, 0, 0], [1, 0, 0, 1], [0, 0, 1, 0]]\n"
     ]
    }
   ],
   "source": [
    "AddEdge(nodeOne, nodeTwo)\n",
    "AddEdge(nodeOne, nodeThree)\n",
    "AddEdge(nodeThree, nodeFour)\n",
    "testNodes = ConvertToMatrix(nodeOne)"
   ]
  },
  {
   "cell_type": "code",
   "execution_count": 158,
   "metadata": {},
   "outputs": [
    {
     "name": "stdout",
     "output_type": "stream",
     "text": [
      "[[0, 1, 1, 0], [1, 0, 0, 0], [1, 0, 0, 1], [0, 0, 1, 0]]\n",
      "[[0, 0, 1, 0], [1, 0, 0, 0], [1, 0, 0, 1], [0, 0, 1, 0]]\n"
     ]
    }
   ],
   "source": [
    "print(testNodes)\n",
    "testNodes[0][1] = 0\n",
    "print(testNodes)"
   ]
  },
  {
   "cell_type": "code",
   "execution_count": 159,
   "metadata": {},
   "outputs": [],
   "source": [
    "flipped = FlipEdges(testNodes)"
   ]
  },
  {
   "cell_type": "code",
   "execution_count": 160,
   "metadata": {},
   "outputs": [
    {
     "name": "stdout",
     "output_type": "stream",
     "text": [
      "[[0, 1, 1, 0], [0, 0, 0, 0], [1, 0, 0, 1], [0, 0, 1, 0]]\n"
     ]
    }
   ],
   "source": [
    "print(flipped)"
   ]
  },
  {
   "cell_type": "code",
   "execution_count": null,
   "metadata": {},
   "outputs": [],
   "source": []
  }
 ],
 "metadata": {
  "kernelspec": {
   "display_name": "Python 3",
   "language": "python",
   "name": "python3"
  },
  "language_info": {
   "codemirror_mode": {
    "name": "ipython",
    "version": 3
   },
   "file_extension": ".py",
   "mimetype": "text/x-python",
   "name": "python",
   "nbconvert_exporter": "python",
   "pygments_lexer": "ipython3",
   "version": "3.7.6"
  }
 },
 "nbformat": 4,
 "nbformat_minor": 4
}
