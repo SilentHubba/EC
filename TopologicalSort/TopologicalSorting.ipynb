{
 "cells": [
  {
   "cell_type": "code",
   "execution_count": 7,
   "metadata": {},
   "outputs": [],
   "source": [
    "from queue import Queue"
   ]
  },
  {
   "cell_type": "code",
   "execution_count": 14,
   "metadata": {},
   "outputs": [],
   "source": [
    "def Kahns(matrixGraph):\n",
    "    # Add all nodes with in-degree 0 into a queue\n",
    "    nodeQueue = Queue()\n",
    "    \n",
    "    # List of all in-degrees\n",
    "    indegreeList = [0] * len(matrixGraph)\n",
    "    \n",
    "    # loop through each column to see where the nodes of in-degree 0 are\n",
    "    for i in range(len(matrixGraph)):\n",
    "        indegreeCount = 0\n",
    "        for j in range(len(matrixGraph)):\n",
    "            if not matrixGraph[j][i] == 0:\n",
    "                indegreeCount += 1\n",
    "        if indegreeCount == 0:\n",
    "            nodeQueue.put(i) \n",
    "            \n",
    "        indegreeList[i] = indegreeCount\n",
    "            \n",
    "    # Kahns with a BFS approach. \n",
    "    sortedList = []\n",
    "    while not nodeQueue.empty():\n",
    "        currentNode = nodeQueue.get()\n",
    "        sortedList.append(currentNode)\n",
    "        \n",
    "        # Add any nodes that have an in-degree of 0 after removing the edge that connects them\n",
    "        for i in range(len(matrixGraph)):\n",
    "            if matrixGraph[currentNode][i] == 1:\n",
    "                indegreeList[i] -= 1\n",
    "                if indegreeList[i] == 0:\n",
    "                    nodeQueue.put(i)\n",
    "    \n",
    "    if len(sortedList) == len(matrixGraph):\n",
    "        return sortedList\n",
    "    \n",
    "    return None\n",
    "    \n",
    "def BFS(matrixGraph):\n",
    "    return Kahns(matrixGraph)\n",
    "\n",
    "def DFS(matrixGraph):\n",
    "    sortedList = [0]*len(matrixGraph)\n",
    "    currentPosition = len(matrixGraph) - 1\n",
    "    visited = []\n",
    "    nodeStack = []\n",
    "    \n",
    "    # loop through each column to see where the nodes of in-degree 0 are\n",
    "    for i in range(len(matrixGraph)):\n",
    "        indegreeCount = 0\n",
    "        for j in range(len(matrixGraph)):\n",
    "            if not matrixGraph[j][i] == 0:\n",
    "                indegreeCount += 1\n",
    "        if indegreeCount == 0:\n",
    "            nodeStack.append(i) \n",
    "            \n",
    "    \n",
    "    # Do DFS\n",
    "    while len(nodeStack) > 0:\n",
    "        currentNode = nodeStack[len(nodeStack) - 1]\n",
    "        \n",
    "        # If the node has already been visited, skip it\n",
    "        if currentNode in visited:\n",
    "            nodeStack.pop()\n",
    "            continue\n",
    "        \n",
    "        # Check to see if all of the edges have been visited. If so, this node should join the final sorted list\n",
    "        endNode = True\n",
    "        for i in range(len(matrixGraph)):\n",
    "            if matrixGraph[currentNode][i] == 1:\n",
    "                if i not in visited:\n",
    "                    endNode = False\n",
    "                    nodeStack.append(i) \n",
    "                    \n",
    "        # If the node is at the end of the search, add it to the final list\n",
    "        if endNode:\n",
    "            sortedList[currentPosition] = currentNode\n",
    "            currentPosition -= 1\n",
    "            visited.append(currentNode)\n",
    "            nodeStack.pop()\n",
    "    \n",
    "    return sortedList    "
   ]
  },
  {
   "cell_type": "code",
   "execution_count": 15,
   "metadata": {},
   "outputs": [],
   "source": [
    "graphSize = 5\n",
    "graph = [[0]*graphSize for x in range(graphSize)]"
   ]
  },
  {
   "cell_type": "code",
   "execution_count": 16,
   "metadata": {},
   "outputs": [
    {
     "data": {
      "text/plain": [
       "[[0, 0, 0, 1, 1],\n",
       " [0, 0, 0, 0, 0],\n",
       " [0, 1, 0, 0, 0],\n",
       " [0, 0, 1, 0, 0],\n",
       " [0, 1, 0, 0, 0]]"
      ]
     },
     "execution_count": 16,
     "metadata": {},
     "output_type": "execute_result"
    }
   ],
   "source": [
    "# 0: 4, 3\n",
    "# 1: \n",
    "# 2: 1\n",
    "# 3: 2\n",
    "# 4: 1\n",
    "graph[0][3] = 1\n",
    "graph[0][4] = 1\n",
    "graph[2][1] = 1\n",
    "graph[3][2] = 1\n",
    "graph[4][1] = 1\n",
    "graph"
   ]
  },
  {
   "cell_type": "code",
   "execution_count": 17,
   "metadata": {},
   "outputs": [
    {
     "data": {
      "text/plain": [
       "[0, 3, 4, 2, 1]"
      ]
     },
     "execution_count": 17,
     "metadata": {},
     "output_type": "execute_result"
    }
   ],
   "source": [
    "Kahns(graph)"
   ]
  },
  {
   "cell_type": "code",
   "execution_count": 18,
   "metadata": {},
   "outputs": [
    {
     "data": {
      "text/plain": [
       "[0, 3, 2, 4, 1]"
      ]
     },
     "execution_count": 18,
     "metadata": {},
     "output_type": "execute_result"
    }
   ],
   "source": [
    "DFS(graph)"
   ]
  },
  {
   "cell_type": "code",
   "execution_count": 19,
   "metadata": {},
   "outputs": [
    {
     "data": {
      "text/plain": [
       "[0, 3, 4, 2, 1]"
      ]
     },
     "execution_count": 19,
     "metadata": {},
     "output_type": "execute_result"
    }
   ],
   "source": [
    "BFS(graph)"
   ]
  },
  {
   "cell_type": "code",
   "execution_count": null,
   "metadata": {},
   "outputs": [],
   "source": []
  }
 ],
 "metadata": {
  "kernelspec": {
   "display_name": "Python 3",
   "language": "python",
   "name": "python3"
  },
  "language_info": {
   "codemirror_mode": {
    "name": "ipython",
    "version": 3
   },
   "file_extension": ".py",
   "mimetype": "text/x-python",
   "name": "python",
   "nbconvert_exporter": "python",
   "pygments_lexer": "ipython3",
   "version": "3.7.6"
  }
 },
 "nbformat": 4,
 "nbformat_minor": 4
}
